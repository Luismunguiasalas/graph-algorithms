{
 "metadata": {
  "language_info": {
   "codemirror_mode": {
    "name": "ipython",
    "version": 3
   },
   "file_extension": ".py",
   "mimetype": "text/x-python",
   "name": "python",
   "nbconvert_exporter": "python",
   "pygments_lexer": "ipython3",
   "version": "3.8.5-final"
  },
  "orig_nbformat": 2,
  "kernelspec": {
   "name": "python3",
   "display_name": "Python 3",
   "language": "python"
  }
 },
 "nbformat": 4,
 "nbformat_minor": 2,
 "cells": [
  {
   "cell_type": "code",
   "execution_count": 4,
   "metadata": {
    "tags": []
   },
   "outputs": [
    {
     "output_type": "stream",
     "name": "stdout",
     "text": [
      "0 : -> 5 -> 1 -> None\n1 : -> 4 -> None\n2 : -> 3 -> None\n3 : -> 1 -> None\n4 : -> 2 -> None\n"
     ]
    }
   ],
   "source": [
    "class AdjNode:\n",
    "    def __init__(self,value):\n",
    "        self.vertex = value\n",
    "        self.next = None\n",
    "class Graph:\n",
    "    def __init__(self,vertices):\n",
    "        self.vertices = vertices\n",
    "        self.graph = [None] * vertices\n",
    "\n",
    "    def add_vertex(self,at_index,val):\n",
    "        node = AdjNode(val)\n",
    "        node.next = self.graph[at_index]\n",
    "        self.graph[at_index] = node\n",
    "\n",
    "        # node_2 = AdjNode(at_index)\n",
    "        # node_2.next = self.graph[val]\n",
    "        # self.graph[val] = node_2\n",
    "\n",
    "    def print_graph(self):\n",
    "        for i in range(self.vertices):\n",
    "            print(i, end=\" : -> \")\n",
    "            current = self.graph[i]\n",
    "            while current:\n",
    "                print(current.vertex, end=\" -> \")\n",
    "                current = current.next\n",
    "            print(\"None\")\n",
    "\n",
    "graph = Graph(5)\n",
    "graph.add_vertex(0,1)\n",
    "graph.add_vertex(0,5)\n",
    "graph.add_vertex(1,4)\n",
    "graph.add_vertex(2,3)\n",
    "graph.add_vertex(3,1)\n",
    "graph.add_vertex(4,2)\n",
    "graph.print_graph()\n"
   ]
  }
 ]
}