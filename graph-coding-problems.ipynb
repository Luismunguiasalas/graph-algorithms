{
 "metadata": {
  "language_info": {
   "codemirror_mode": {
    "name": "ipython",
    "version": 3
   },
   "file_extension": ".py",
   "mimetype": "text/x-python",
   "name": "python",
   "nbconvert_exporter": "python",
   "pygments_lexer": "ipython3",
   "version": "3.8.5-final"
  },
  "orig_nbformat": 2,
  "kernelspec": {
   "name": "python3",
   "display_name": "Python 3",
   "language": "python"
  }
 },
 "nbformat": 4,
 "nbformat_minor": 2,
 "cells": [
  {
   "cell_type": "code",
   "execution_count": null,
   "metadata": {
    "tags": []
   },
   "outputs": [],
   "source": [
    "class AdjNode:\n",
    "    def __init__(self,value):\n",
    "        self.vertex = value\n",
    "        self.next = None\n",
    "class Graph:\n",
    "    def __init__(self,vertices):\n",
    "        self.vertices = vertices\n",
    "        self.graph = [None] * vertices\n",
    "\n",
    "    def add_vertex(self,at_index,val):\n",
    "        node = AdjNode(val)\n",
    "        node.next = self.graph[at_index]\n",
    "        self.graph[at_index] = node\n",
    "\n",
    "        # node_2 = AdjNode(at_index)\n",
    "        # node_2.next = self.graph[val]\n",
    "        # self.graph[val] = node_2\n",
    "\n",
    "    def print_graph(self):\n",
    "        for i in range(self.vertices):\n",
    "            print(i, end=\" : -> \")\n",
    "            current = self.graph[i]\n",
    "            while current:\n",
    "                print(current.vertex, end=\" -> \")\n",
    "                current = current.next\n",
    "            print(\"None\")\n",
    "\n",
    "graph = Graph(7)\n",
    "graph.add_vertex(0,1)\n",
    "graph.add_vertex(0,2)\n",
    "graph.add_vertex(0,3)\n",
    "graph.add_vertex(1,3)\n",
    "graph.add_vertex(1,4)\n",
    "graph.add_vertex(2,4)\n",
    "graph.add_vertex(2,3)\n",
    "graph.add_vertex(3,6)\n",
    "graph.add_vertex(3,5)\n",
    "graph.print_graph()\n",
    "\n",
    "def bfs(g,s):\n",
    "    r = \"\"\n",
    "    q = []\n",
    "    v = [False] * g.vertices\n",
    "    q.append(s)\n",
    "    v[s] = True\n",
    "    while q:\n",
    "        cv= q.pop(0)\n",
    "        r += str(cv)\n",
    "        while g.graph[cv]:\n",
    "            d= g.graph[cv].vertex\n",
    "            if not v[d]:\n",
    "                q.append(d)\n",
    "                v[d] = True\n",
    "            g.graph[cv] = g.graph[cv].next\n",
    "    return r\n",
    "\n",
    "    \n",
    "        \n",
    "bfs(graph,0)\n",
    "\n",
    "\n",
    "\n"
   ]
  },
  {
   "cell_type": "code",
   "execution_count": 97,
   "metadata": {
    "tags": []
   },
   "outputs": [
    {
     "output_type": "stream",
     "name": "stdout",
     "text": [
      "0:2->1->None\n1:4->3->None\n2:1->None\n3:2->4->None\n4:None\n"
     ]
    },
    {
     "output_type": "execute_result",
     "data": {
      "text/plain": [
       "'02143'"
      ]
     },
     "metadata": {},
     "execution_count": 97
    }
   ],
   "source": [
    "class Node:\n",
    "    def __init__(self,v):\n",
    "        self.vertex = v\n",
    "        self.next = None \n",
    "class Graph:\n",
    "    def __init__(self,v):\n",
    "        self.vertices = v\n",
    "        self.graph = [None] * v\n",
    "    def add_v(self,at,v):\n",
    "        node= Node(v)\n",
    "        node.next = self.graph[at]\n",
    "        self.graph[at] = node\n",
    "    def print_g(self):\n",
    "        for i in range(self.vertices):\n",
    "            print(i, end=\":\")\n",
    "            c = self.graph[i]\n",
    "            while c:\n",
    "                print(c.vertex, end=\"->\")\n",
    "                c = c.next\n",
    "            print(\"None\")\n",
    "\n",
    "    \n",
    "\n",
    "graph = Graph(5)\n",
    "graph.add_v(0,1)\n",
    "graph.add_v(0,2)\n",
    "graph.add_v(1,3)\n",
    "graph.add_v(1,4)\n",
    "graph.add_v(2,1)\n",
    "graph.add_v(3,4)\n",
    "graph.add_v(3,2)\n",
    "graph.print_g()\n",
    "def bfs(g,s):\n",
    "    r = \"\"\n",
    "    q = []\n",
    "    v = [False] * g.vertices\n",
    "    q.append(s)\n",
    "    v[s] = True\n",
    "    while q:\n",
    "        ci = q.pop(0)\n",
    "        r += str(ci)\n",
    "        while g.graph[ci]:\n",
    "            cv = g.graph[ci].vertex\n",
    "            if not v[cv]:\n",
    "                q.append(cv)\n",
    "                v[cv] = True\n",
    "            g.graph[ci] = g.graph[ci].next\n",
    "    return r\n",
    "\n",
    "bfs(graph,0)"
   ]
  },
  {
   "cell_type": "code",
   "execution_count": null,
   "metadata": {},
   "outputs": [],
   "source": []
  }
 ]
}